{
 "cells": [
  {
   "cell_type": "code",
   "execution_count": 16,
   "id": "0abb667e",
   "metadata": {},
   "outputs": [
    {
     "name": "stdout",
     "output_type": "stream",
     "text": [
      "14570\n",
      "14570\n",
      "15\n",
      "15\n",
      "[[-3.4000000e+38 -3.4000000e+38 -3.4000000e+38 ... -3.4000000e+38\n",
      "  -3.4000000e+38 -3.4000000e+38]\n",
      " [-3.4000000e+38 -3.4000000e+38 -3.4000000e+38 ... -3.4000000e+38\n",
      "  -3.4000000e+38 -3.4000000e+38]\n",
      " [-3.4000000e+38 -3.4000000e+38 -3.4000000e+38 ... -3.4000000e+38\n",
      "  -3.4000000e+38 -3.4000000e+38]\n",
      " ...\n",
      " [ 2.3373779e+01  2.3823364e+01  2.4091187e+01 ...  1.6829346e+01\n",
      "  -3.4000000e+38 -3.4000000e+38]\n",
      " [ 2.3266113e+01  2.3313110e+01  2.3687988e+01 ... -3.4000000e+38\n",
      "  -3.4000000e+38 -3.4000000e+38]\n",
      " [ 2.3214233e+01  2.3204956e+01  2.3272339e+01 ... -3.4000000e+38\n",
      "  -3.4000000e+38 -3.4000000e+38]]\n"
     ]
    }
   ],
   "source": [
    "from PIL import Image\n",
    "import numpy as np\n",
    "img = Image.open('/Users/zhangjiayun/Downloads/10.35097-538/data/dataset/orthomosaic/CFB153_ortho.tif')\n",
    "height_img = Image.open('/Users/zhangjiayun/Downloads/10.35097-538/data/dataset/nDSM/nDSM_CFB153.tif')\n",
    "# use chunk size 1024x1024\n",
    "chunk_size = 1024 \n",
    "\n",
    "width, height = img.size\n",
    "print(width)\n",
    "print(height)\n",
    "\n",
    "# calculate how many chunks do we need\n",
    "x_chunks = width // chunk_size + bool(width % chunk_size)\n",
    "y_chunks = height // chunk_size + bool(height % chunk_size)\n",
    "print(x_chunks)\n",
    "print(y_chunks)\n",
    "# for y in range(y_chunks):\n",
    "#     for x in range(x_chunks):\n",
    "for y in range(1):\n",
    "    for x in range(3):\n",
    "        left = x * chunk_size\n",
    "        upper = y * chunk_size\n",
    "        right = min(left + chunk_size, width)\n",
    "        lower = min(upper + chunk_size, height)\n",
    "        \n",
    "        chunk = img.crop((left, upper, right, lower))\n",
    "        chunk_height = height_img.crop((left, upper, right, lower))\n",
    "        data_img = np.array(chunk)\n",
    "        data_height = np.array(chunk_height)\n",
    "        chunk.show()\n",
    "        chunk_height.show()\n",
    "        break\n",
    "print(data_img)"
   ]
  },
  {
   "cell_type": "code",
   "execution_count": 15,
   "id": "aea3bd66",
   "metadata": {},
   "outputs": [
    {
     "ename": "AttributeError",
     "evalue": "'numpy.ndarray' object has no attribute 'show'",
     "output_type": "error",
     "traceback": [
      "\u001b[0;31m---------------------------------------------------------------------------\u001b[0m",
      "\u001b[0;31mAttributeError\u001b[0m                            Traceback (most recent call last)",
      "Cell \u001b[0;32mIn[15], line 2\u001b[0m\n\u001b[1;32m      1\u001b[0m data_height \u001b[38;5;241m=\u001b[39m data_height \u001b[38;5;241m/\u001b[39m(np\u001b[38;5;241m.\u001b[39mmax(data_height) \u001b[38;5;241m-\u001b[39m np\u001b[38;5;241m.\u001b[39mmin(data_height)) \n\u001b[0;32m----> 2\u001b[0m data_height\u001b[38;5;241m.\u001b[39mshow()\n",
      "\u001b[0;31mAttributeError\u001b[0m: 'numpy.ndarray' object has no attribute 'show'"
     ]
    }
   ],
   "source": [
    "data_height = data_height /(np.max(data_height) - np.min(data_height)) "
   ]
  },
  {
   "cell_type": "code",
   "execution_count": 17,
   "id": "c2beebad",
   "metadata": {},
   "outputs": [
    {
     "name": "stdout",
     "output_type": "stream",
     "text": [
      "[[[  0   0   0   0]\n",
      "  [  0   0   0   0]\n",
      "  [  0   0   0   0]\n",
      "  ...\n",
      "  [ 32  53  42 255]\n",
      "  [ 31  53  42 255]\n",
      "  [ 29  51  40 255]]\n",
      "\n",
      " [[  0   0   0   0]\n",
      "  [  0   0   0   0]\n",
      "  [  0   0   0   0]\n",
      "  ...\n",
      "  [ 33  55  43 255]\n",
      "  [ 29  52  37 255]\n",
      "  [ 30  48  38 255]]\n",
      "\n",
      " [[  0   0   0   0]\n",
      "  [  0   0   0   0]\n",
      "  [  0   0   0   0]\n",
      "  ...\n",
      "  [ 33  53  42 255]\n",
      "  [ 28  50  35 255]\n",
      "  [ 30  47  36 255]]\n",
      "\n",
      " ...\n",
      "\n",
      " [[ 83 120  72 255]\n",
      "  [ 84 119  73 255]\n",
      "  [ 85 121  73 255]\n",
      "  ...\n",
      "  [ 17  37  29 255]\n",
      "  [ 17  37  29 255]\n",
      "  [ 18  38  31 255]]\n",
      "\n",
      " [[ 82 118  70 255]\n",
      "  [ 82 118  70 255]\n",
      "  [ 82 118  70 255]\n",
      "  ...\n",
      "  [ 17  37  29 255]\n",
      "  [ 17  37  30 255]\n",
      "  [ 17  38  31 255]]\n",
      "\n",
      " [[ 81 116  69 255]\n",
      "  [ 81 116  69 255]\n",
      "  [ 80 116  69 255]\n",
      "  ...\n",
      "  [ 16  37  30 255]\n",
      "  [ 17  38  32 255]\n",
      "  [ 17  39  32 255]]]\n"
     ]
    }
   ],
   "source": [
    "print(data_img)"
   ]
  },
  {
   "cell_type": "code",
   "execution_count": null,
   "id": "f5a573a1",
   "metadata": {},
   "outputs": [],
   "source": []
  }
 ],
 "metadata": {
  "kernelspec": {
   "display_name": "Python 3 (ipykernel)",
   "language": "python",
   "name": "python3"
  },
  "language_info": {
   "codemirror_mode": {
    "name": "ipython",
    "version": 3
   },
   "file_extension": ".py",
   "mimetype": "text/x-python",
   "name": "python",
   "nbconvert_exporter": "python",
   "pygments_lexer": "ipython3",
   "version": "3.11.4"
  }
 },
 "nbformat": 4,
 "nbformat_minor": 5
}
